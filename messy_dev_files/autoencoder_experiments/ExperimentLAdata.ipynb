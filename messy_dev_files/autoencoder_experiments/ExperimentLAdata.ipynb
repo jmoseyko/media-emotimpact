{
 "cells": [
  {
   "cell_type": "code",
   "execution_count": 1,
   "metadata": {
    "collapsed": false
   },
   "outputs": [],
   "source": [
    "# trying to import cv2\n",
    "import cv2\n",
    "import os"
   ]
  },
  {
   "cell_type": "code",
   "execution_count": null,
   "metadata": {
    "collapsed": false
   },
   "outputs": [],
   "source": [
    "# this can become get_frame_frm_vid() --> but how to read a specific frame? you can pinpoint one at a given time point\n",
    "print(cv2.__version__)\n",
    "vidcap = cv2.VideoCapture('data_movies/MEDIAEVAL18_07.mp4')\n",
    "success, frame = vidcap.read()\n",
    "print(frame.shape)"
   ]
  },
  {
   "cell_type": "code",
   "execution_count": null,
   "metadata": {
    "collapsed": false
   },
   "outputs": [],
   "source": [
    "# more messing around with different cv2 functions\n",
    "vidcap = cv2.VideoCapture('data_movies/MEDIAEVAL1_07.mp4')\n",
    "vidcap.open('data_movies/MEDIAEVAL18_07.mp4')\n",
    "is_open = vidcap.isOpened()\n",
    "print(is_open)"
   ]
  },
  {
   "cell_type": "code",
   "execution_count": null,
   "metadata": {
    "collapsed": false
   },
   "outputs": [],
   "source": [
    "# saving the video frames into local folder for later use --> more experiments\n",
    "\n",
    "# create the video capture object\n",
    "vidcap = cv2.VideoCapture('data_movies/MEDIAEVAL18_07.mp4')\n",
    "\n",
    "#number frames I want to save for testing purposes\n",
    "num_frames = 3\n",
    "count = 0\n",
    "for f in range(num_frames):\n",
    "    success, image = vidcap.read()\n",
    "    cv2.imwrite(\"frame%d.jpg\" % count, image)     # save frame as JPEG file\n",
    "    print('Read a new frame: ', success)\n",
    "    count += 1"
   ]
  },
  {
   "cell_type": "code",
   "execution_count": null,
   "metadata": {
    "collapsed": true
   },
   "outputs": [],
   "source": [
    "# function for reading video frames into a file --> source: https://www.life2coding.com/extract-frame-video-file-using-opencv-python/ \n",
    "import cv2\n",
    "import os\n",
    " \n",
    "def extractFrames(pathIn, pathOut):\n",
    "    os.mkdir(pathOut)\n",
    " \n",
    "    cap = cv2.VideoCapture(pathIn)\n",
    "    count = 0\n",
    " \n",
    "    while (cap.isOpened()):\n",
    " \n",
    "        # Capture frame-by-frame\n",
    "        ret, frame = cap.read()\n",
    " \n",
    "        if ret == True:\n",
    "            print('Read %d frame: ' % count, ret)\n",
    "            cv2.imwrite(os.path.join(pathOut, \"frame{:d}.jpg\".format(count)), frame)  # save frame as JPEG file\n",
    "            count += 1\n",
    "        else:\n",
    "            break\n",
    " \n",
    "    # When everything done, release the capture\n",
    "    cap.release()\n",
    "    cv2.destroyAllWindows()"
   ]
  },
  {
   "cell_type": "code",
   "execution_count": null,
   "metadata": {
    "collapsed": false
   },
   "outputs": [],
   "source": [
    "# running the function defined above\n",
    "extractFrames('data_movies/MEDIAEVAL18_07.mp4', 'data_frames/07')"
   ]
  },
  {
   "cell_type": "code",
   "execution_count": null,
   "metadata": {
    "collapsed": false
   },
   "outputs": [],
   "source": [
    "# visualize the frames from the file --> this will eventually be turned into a function\n",
    "\n",
    "# what will become the input arguments of the function:\n",
    "pathOut = 'data_frames/07'\n",
    "\n",
    "# start a counting variable for 100 that controls how many frames are shown\n",
    "count = 1000\n",
    "num_frames = 20\n",
    "\n",
    "for f in range(num_frames):\n",
    "    # create the image file name --> join count with a string, maybe need to use the os thing\n",
    "    img_path = os.path.join(pathOut, \"frame{:d}.jpg\".format(count + f))\n",
    "    # read the image in greyscale using cv2.imread\n",
    "    img = cv2.imread(img_path)\n",
    "    print(img)\n",
    "    print('shape: ', img.shape)\n",
    "    # display the image using cv2.imshow\n",
    "    cv2.imshow('image',img)\n",
    "    cv2.waitKey(0) # wait indefinitely for a keyboard stroke\n",
    "\n",
    "print(\"for-loop completed\")\n",
    "cv2.destroyAllWindows() # destroy the window created\n",
    "print(\"windows destroyed\")\n",
    "\n",
    "# inspiration from here: https://docs.opencv.org/3.0-beta/doc/py_tutorials/py_gui/py_image_display/py_image_display.html"
   ]
  },
  {
   "cell_type": "code",
   "execution_count": null,
   "metadata": {
    "collapsed": true
   },
   "outputs": [],
   "source": []
  },
  {
   "cell_type": "code",
   "execution_count": null,
   "metadata": {
    "collapsed": true
   },
   "outputs": [],
   "source": [
    "# importing custom functions from my own data_utils file\n",
    "from data_utils_local01 import extractFrames"
   ]
  },
  {
   "cell_type": "code",
   "execution_count": null,
   "metadata": {
    "collapsed": false
   },
   "outputs": [],
   "source": [
    "# testing these functions\n",
    "extractFrames('data_movies/MEDIAEVAL18_08.mp4', 'data_frames/08')"
   ]
  },
  {
   "cell_type": "code",
   "execution_count": 2,
   "metadata": {
    "collapsed": false
   },
   "outputs": [],
   "source": [
    "# experimenting with resizing frames\n",
    "import cv2\n",
    "import os\n",
    "from data_utils_local02 import *"
   ]
  },
  {
   "cell_type": "code",
   "execution_count": 3,
   "metadata": {
    "collapsed": false
   },
   "outputs": [],
   "source": [
    "# grab a frame from a video\n",
    "frame = get_frm_folder('data_frames/08/frame5033.jpg')"
   ]
  },
  {
   "cell_type": "code",
   "execution_count": null,
   "metadata": {
    "collapsed": false
   },
   "outputs": [
    {
     "data": {
      "text/plain": [
       "32"
      ]
     },
     "execution_count": 4,
     "metadata": {},
     "output_type": "execute_result"
    }
   ],
   "source": [
    "# visualize this frame\n",
    "cv2.imshow('img',frame)\n",
    "cv2.waitKey(0)"
   ]
  },
  {
   "cell_type": "code",
   "execution_count": null,
   "metadata": {
    "collapsed": true
   },
   "outputs": [],
   "source": [
    "# reshape this frame\n",
    "resized_img = cv2.resize(frame, (64,64))\n",
    "# now show it again\n",
    "cv2.imshow('img', resized_img)\n",
    "cv2.waitKey(0)"
   ]
  },
  {
   "cell_type": "code",
   "execution_count": 4,
   "metadata": {
    "collapsed": false
   },
   "outputs": [
    {
     "name": "stdout",
     "output_type": "stream",
     "text": [
      "destroyed the windows\n"
     ]
    }
   ],
   "source": [
    "#cv2.imshow('image',frame)\n",
    "#cv2.waitKey(0) # wait indefinitely for a keyboard stroke"
   ]
  }
 ],
 "metadata": {
  "anaconda-cloud": {},
  "kernelspec": {
   "display_name": "Python [default]",
   "language": "python",
   "name": "python3"
  },
  "language_info": {
   "codemirror_mode": {
    "name": "ipython",
    "version": 3
   },
   "file_extension": ".py",
   "mimetype": "text/x-python",
   "name": "python",
   "nbconvert_exporter": "python",
   "pygments_lexer": "ipython3",
   "version": "3.5.2"
  }
 },
 "nbformat": 4,
 "nbformat_minor": 1
}
