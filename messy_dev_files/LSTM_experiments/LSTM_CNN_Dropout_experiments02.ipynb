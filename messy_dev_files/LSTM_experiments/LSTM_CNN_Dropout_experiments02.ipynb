{
 "cells": [
  {
   "cell_type": "code",
   "execution_count": 1,
   "metadata": {
    "collapsed": false
   },
   "outputs": [
    {
     "name": "stderr",
     "output_type": "stream",
     "text": [
      "/Users/chloeloughridge/anaconda/lib/python3.5/importlib/_bootstrap.py:222: RuntimeWarning: compiletime version 3.6 of module 'tensorflow.python.framework.fast_tensor_util' does not match runtime version 3.5\n",
      "  return f(*args, **kwds)\n"
     ]
    }
   ],
   "source": [
    "# This version uses both CNN layers and dropout in an effort to increase accuracy\n",
    "# it also includes spatial dropout after the CNN layer\n",
    "# and the entire model is visualized at the bottom\n",
    "\n",
    "# Here I will be building out the architecture of the first classification LSTM\n",
    "# At each time step, this LSTM will take in a vector representing the extracted audio and visual features from Liris-ACCEDE\n",
    "# Its goal is to output whether or not the movie induces fear at each time step\n",
    "\n",
    "\n",
    "# First, import necessary libraries\n",
    "import tensorflow as tf\n",
    "import numpy as np"
   ]
  },
  {
   "cell_type": "code",
   "execution_count": 2,
   "metadata": {
    "collapsed": false
   },
   "outputs": [
    {
     "name": "stderr",
     "output_type": "stream",
     "text": [
      "Using TensorFlow backend.\n"
     ]
    }
   ],
   "source": [
    "# setting up the keras stuff\n",
    "from keras.models import Sequential\n",
    "from keras.layers import Dense, Activation, Flatten, Dropout, SpatialDropout1D\n",
    "from keras.layers import LSTM, Conv1D\n",
    "# my custom data_utils file\n",
    "from data_utils_local08 import *"
   ]
  },
  {
   "cell_type": "code",
   "execution_count": 3,
   "metadata": {
    "collapsed": true
   },
   "outputs": [],
   "source": [
    "# for plotting the model\n",
    "# !pip install pydot\n",
    "import pydot\n",
    "from IPython.display import SVG\n",
    "from keras.utils.vis_utils import model_to_dot\n",
    "from keras.utils import plot_model\n",
    "import matplotlib.pyplot as plt\n",
    "from matplotlib.pyplot import imshow"
   ]
  },
  {
   "cell_type": "code",
   "execution_count": 4,
   "metadata": {
    "collapsed": false
   },
   "outputs": [
    {
     "name": "stdout",
     "output_type": "stream",
     "text": [
      "(212, 4096)\n"
     ]
    }
   ],
   "source": [
    "# uploading the X values\n",
    "X_input = load_Xinput(get_fc6_directory(7))\n",
    "print(X_input.shape)"
   ]
  },
  {
   "cell_type": "code",
   "execution_count": 5,
   "metadata": {
    "collapsed": false
   },
   "outputs": [
    {
     "name": "stdout",
     "output_type": "stream",
     "text": [
      "(212,)\n"
     ]
    }
   ],
   "source": [
    "# uploading the Y values\n",
    "y_data_input = fear_oneHot(212, 'fear_annotations_part01/MEDIAEVAL18_7_Fear.txt')\n",
    "print(y_data_input.shape)"
   ]
  },
  {
   "cell_type": "code",
   "execution_count": 6,
   "metadata": {
    "collapsed": false
   },
   "outputs": [
    {
     "name": "stdout",
     "output_type": "stream",
     "text": [
      "(4, 212, 4096)\n"
     ]
    }
   ],
   "source": [
    "# Uploading part01 of the local fc6 data\n",
    "\n",
    "timesteps = 212   # the number of seconds in movie 07 --> i will figure out how to programmatically get this value\n",
    "data_dim = 4096    # the number of output values from VGG16 layer fc6 --> switch to programmatic later\n",
    "num_movies = 4\n",
    "batch_size = 7\n",
    "num_epochs = 5\n",
    "validation_num = 3\n",
    "\n",
    "# set up the X_train_data master array\n",
    "X_train_data = np.zeros([num_movies, timesteps, data_dim]) #oooooh this array will have to be as long as the longest\n",
    "                                                            # movie and padded with zeros --> this won't cause problems\n",
    "                                                            # right?\n",
    "X_valid_data = np.zeros([validation_num, timesteps, data_dim])\n",
    "        \n",
    "# for each movie number between and including 7 and 13\n",
    "for num in range(num_movies):\n",
    "    # load the X_input data\n",
    "    X_input = load_Xinput(get_fc6_directory(7 + num))\n",
    "    # put this X_input data into the X_train_data array\n",
    "    X_train_data[num, :, :] = X_input\n",
    "print(X_train_data.shape)\n",
    "\n"
   ]
  },
  {
   "cell_type": "code",
   "execution_count": 7,
   "metadata": {
    "collapsed": false
   },
   "outputs": [
    {
     "name": "stdout",
     "output_type": "stream",
     "text": [
      "(3, 212, 4096)\n"
     ]
    }
   ],
   "source": [
    "# loading X validation set\n",
    "X_valid_data = np.zeros([validation_num, timesteps, data_dim])\n",
    "\n",
    "for num in range(validation_num):\n",
    "    # load the X_input data\n",
    "    X_valid = load_Xinput(get_fc6_directory(7 + num_movies + num))\n",
    "    # put this X_input data into the X_train_data array\n",
    "    X_valid_data[num, :, :] = X_valid\n",
    "print(X_valid_data.shape)\n"
   ]
  },
  {
   "cell_type": "code",
   "execution_count": 8,
   "metadata": {
    "collapsed": false
   },
   "outputs": [
    {
     "name": "stdout",
     "output_type": "stream",
     "text": [
      "[0. 0. 0. 0. 0. 0. 0. 0. 0. 0. 0. 0. 0. 0. 0. 0. 0. 0. 0. 0. 0. 0. 0. 0.\n",
      " 0. 0. 0. 0. 0. 0. 0. 0. 0. 0. 0. 0. 0. 0. 0. 0. 0. 0. 0. 0. 0. 0. 0. 0.\n",
      " 0. 0. 0. 0. 0. 0. 0. 0. 0. 0. 0. 0. 0. 0. 0. 0. 1. 1. 1. 1. 1. 1. 1. 1.\n",
      " 1. 1. 1. 1. 1. 1. 1. 1. 1. 1. 1. 1. 1. 1. 1. 1. 1. 1. 1. 1. 1. 1. 1. 1.\n",
      " 1. 1. 1. 1. 1. 1. 0. 0. 0. 1. 1. 1. 1. 1. 0. 0. 0. 0. 0. 0. 0. 0. 0. 0.\n",
      " 0. 0. 0. 0. 0. 0. 0. 0. 0. 1. 1. 1. 1. 1. 1. 1. 1. 1. 1. 1. 1. 1. 1. 1.\n",
      " 1. 1. 0. 0. 0. 0. 0. 0. 0. 0. 0. 0. 0. 0. 0. 0. 0. 0. 0. 0. 0. 0. 0. 0.\n",
      " 0. 0. 0. 0. 0. 0. 0. 0. 0. 0. 0. 0. 0. 0. 0. 0. 0. 0. 0. 0. 0. 0. 0. 0.\n",
      " 0. 0. 0. 0. 0. 0. 0. 0. 0. 0. 0. 0. 0. 0. 0. 0. 0. 0. 0. 0.]\n"
     ]
    }
   ],
   "source": [
    "# uploading the y data\n",
    "\n",
    "# set up y_train_data master array\n",
    "Y_train_data = np.zeros([num_movies, timesteps])\n",
    "\n",
    "# for each movie number between and including 7 and 13\n",
    "for num in range(num_movies):\n",
    "    # create the appropriate path to the fear annotation data\n",
    "    #print(num)\n",
    "    path = os.path.join('fear_annotations_part01/MEDIAEVAL18_{}_Fear.txt'.format(7+num))\n",
    "    # create a one-hot vector\n",
    "    y_data = fear_oneHot(timesteps, path)\n",
    "    # add this one-hot vector to y_train_data\n",
    "    Y_train_data[num, :] = y_data\n",
    "print(Y_train_data[0])"
   ]
  },
  {
   "cell_type": "code",
   "execution_count": 9,
   "metadata": {
    "collapsed": false
   },
   "outputs": [
    {
     "name": "stdout",
     "output_type": "stream",
     "text": [
      "[0. 0. 0. 0. 0. 0. 0. 0. 0. 0. 0. 0. 0. 0. 0. 0. 0. 0. 0. 0. 0. 0. 0. 0.\n",
      " 0. 0. 0. 0. 0. 0. 0. 0. 0. 0. 0. 0. 0. 0. 0. 0. 0. 0. 0. 0. 0. 0. 0. 0.\n",
      " 0. 0. 0. 0. 0. 0. 0. 0. 0. 0. 0. 0. 0. 0. 0. 0. 0. 0. 0. 0. 0. 0. 0. 0.\n",
      " 0. 0. 0. 0. 0. 0. 0. 0. 0. 0. 0. 0. 0. 0. 0. 0. 0. 0. 0. 0. 0. 0. 0. 0.\n",
      " 0. 0. 0. 0. 0. 0. 0. 0. 0. 0. 0. 0. 0. 0. 0. 0. 0. 0. 0. 0. 0. 0. 0. 0.\n",
      " 0. 0. 0. 0. 0. 0. 0. 0. 0. 0. 0. 0. 0. 0. 0. 0. 0. 0. 0. 0. 0. 0. 0. 0.\n",
      " 0. 0. 0. 0. 0. 0. 0. 0. 0. 0. 0. 0. 0. 0. 0. 0. 0. 0. 0. 0. 0. 0. 0. 0.\n",
      " 0. 0. 0. 0. 0. 0. 0. 0. 0. 1. 1. 1. 1. 1. 1. 1. 1. 1. 1. 1. 1. 1. 1. 1.\n",
      " 1. 1. 1. 1. 1. 0. 0. 0. 0. 0. 0. 0. 0. 0. 0. 0. 0. 0. 0. 0.]\n"
     ]
    }
   ],
   "source": [
    "# upload the Y validation set\n",
    "Y_valid_data = np.zeros([validation_num, timesteps])\n",
    "\n",
    "# for each movie number in validation set\n",
    "for num in range(validation_num):\n",
    "    # create the appropriate path to the fear annotation data\n",
    "    #print(num)\n",
    "    path = os.path.join('fear_annotations_part01/MEDIAEVAL18_{}_Fear.txt'.format(7+ num_movies + num))\n",
    "    # create a one-hot vector\n",
    "    y_valid = fear_oneHot(timesteps, path)\n",
    "    # add this one-hot vector to y_train_data\n",
    "    Y_valid_data[num, :] = y_valid\n",
    "print(Y_valid_data[0])"
   ]
  },
  {
   "cell_type": "code",
   "execution_count": 10,
   "metadata": {
    "collapsed": false
   },
   "outputs": [],
   "source": [
    "# constructing a many-to-one LSTM model in keras --> inspiration: https://stackoverflow.com/questions/43034960/many-to-one-and-many-to-many-lstm-examples-in-keras\n",
    "# i will start by training a model on only the VGG16 fc6 layer output (that's just one feature)\n",
    "# should I eventually abstract this LSTM model? Create its own object file?\n",
    "model = Sequential()\n",
    "\n",
    "# add a convolutional layer over here\n",
    "model.add(Conv1D(10, kernel_size=3, activation=\"sigmoid\", input_shape=(timesteps, data_dim)))\n",
    "\n",
    "# just for fun\n",
    "model.add(SpatialDropout1D(0.25))\n",
    "\n",
    "# first LSTM layer\n",
    "model.add(LSTM(212, return_sequences=True))\n",
    "\n",
    "# dropout layer\n",
    "model.add(Dropout(0.5))\n",
    "\n",
    "# another LSTM layer\n",
    "model.add(LSTM(212, return_sequences=True))\n",
    "\n",
    "# going to try adding a flatten layer in here\n",
    "model.add(Flatten()) # I got this from a github thing, but I still don't completely understand why it works\n",
    "\n",
    "# add the final dense layer and then softmax\n",
    "model.add(Dense(212, activation='softmax'))\n",
    "# going to add a softmax activation to this\n",
    "#model.add(Activation('softmax'))"
   ]
  },
  {
   "cell_type": "code",
   "execution_count": 11,
   "metadata": {
    "collapsed": true
   },
   "outputs": [],
   "source": [
    "# compiling LSTM model\n",
    "# note that Ng used an Adam optimizer and categorical cross-entropy loss\n",
    "# but this is a binary classification problem so I think the parameters below should suffice\n",
    "model.compile(loss='binary_crossentropy',\n",
    "              optimizer='rmsprop',\n",
    "              metrics=['binary_accuracy'])"
   ]
  },
  {
   "cell_type": "code",
   "execution_count": 23,
   "metadata": {
    "collapsed": false
   },
   "outputs": [
    {
     "name": "stdout",
     "output_type": "stream",
     "text": [
      "Train on 4 samples, validate on 3 samples\n",
      "Epoch 1/20\n",
      "4/4 [==============================] - 3s 763ms/step - loss: 1.0442 - binary_accuracy: 0.8054 - val_loss: 2.9644 - val_binary_accuracy: 0.7689\n",
      "Epoch 2/20\n",
      "4/4 [==============================] - 1s 204ms/step - loss: 1.3931 - binary_accuracy: 0.8054 - val_loss: 2.2501 - val_binary_accuracy: 0.7689\n",
      "Epoch 3/20\n",
      "4/4 [==============================] - 1s 251ms/step - loss: 1.8022 - binary_accuracy: 0.8054 - val_loss: 2.0268 - val_binary_accuracy: 0.7689\n",
      "Epoch 4/20\n",
      "4/4 [==============================] - 1s 294ms/step - loss: 1.5170 - binary_accuracy: 0.8054 - val_loss: 1.9313 - val_binary_accuracy: 0.7689\n",
      "Epoch 5/20\n",
      "4/4 [==============================] - 1s 276ms/step - loss: 1.3067 - binary_accuracy: 0.8054 - val_loss: 1.2506 - val_binary_accuracy: 0.7689\n",
      "Epoch 6/20\n",
      "4/4 [==============================] - 1s 271ms/step - loss: 1.0844 - binary_accuracy: 0.8054 - val_loss: 1.6712 - val_binary_accuracy: 0.7689\n",
      "Epoch 7/20\n",
      "4/4 [==============================] - 1s 274ms/step - loss: 1.0869 - binary_accuracy: 0.8054 - val_loss: 1.8702 - val_binary_accuracy: 0.7689\n",
      "Epoch 8/20\n",
      "4/4 [==============================] - 1s 216ms/step - loss: 0.9943 - binary_accuracy: 0.8054 - val_loss: 1.5391 - val_binary_accuracy: 0.7689\n",
      "Epoch 9/20\n",
      "4/4 [==============================] - 1s 300ms/step - loss: 0.9024 - binary_accuracy: 0.8054 - val_loss: 1.5193 - val_binary_accuracy: 0.7689\n",
      "Epoch 10/20\n",
      "4/4 [==============================] - 1s 241ms/step - loss: 0.9648 - binary_accuracy: 0.8054 - val_loss: 1.6057 - val_binary_accuracy: 0.7689\n",
      "Epoch 11/20\n",
      "4/4 [==============================] - 1s 241ms/step - loss: 0.9401 - binary_accuracy: 0.8054 - val_loss: 1.8568 - val_binary_accuracy: 0.7689\n",
      "Epoch 12/20\n",
      "4/4 [==============================] - 1s 216ms/step - loss: 0.9493 - binary_accuracy: 0.8054 - val_loss: 1.6263 - val_binary_accuracy: 0.7689\n",
      "Epoch 13/20\n",
      "4/4 [==============================] - 1s 236ms/step - loss: 0.9270 - binary_accuracy: 0.8054 - val_loss: 1.6762 - val_binary_accuracy: 0.7689\n",
      "Epoch 14/20\n",
      "4/4 [==============================] - 1s 256ms/step - loss: 0.8854 - binary_accuracy: 0.8054 - val_loss: 1.5666 - val_binary_accuracy: 0.7689\n",
      "Epoch 15/20\n",
      "4/4 [==============================] - 1s 237ms/step - loss: 0.8922 - binary_accuracy: 0.8054 - val_loss: 1.6414 - val_binary_accuracy: 0.7689\n",
      "Epoch 16/20\n",
      "4/4 [==============================] - 1s 218ms/step - loss: 0.9053 - binary_accuracy: 0.8054 - val_loss: 1.7248 - val_binary_accuracy: 0.7689\n",
      "Epoch 17/20\n",
      "4/4 [==============================] - 1s 217ms/step - loss: 0.8522 - binary_accuracy: 0.8054 - val_loss: 1.7332 - val_binary_accuracy: 0.7689\n",
      "Epoch 18/20\n",
      "4/4 [==============================] - 1s 229ms/step - loss: 0.9243 - binary_accuracy: 0.8054 - val_loss: 1.8507 - val_binary_accuracy: 0.7689\n",
      "Epoch 19/20\n",
      "4/4 [==============================] - 1s 225ms/step - loss: 0.8922 - binary_accuracy: 0.8054 - val_loss: 2.1151 - val_binary_accuracy: 0.7689\n",
      "Epoch 20/20\n",
      "4/4 [==============================] - 1s 246ms/step - loss: 0.9778 - binary_accuracy: 0.8054 - val_loss: 1.7743 - val_binary_accuracy: 0.7689\n",
      "finished training!\n"
     ]
    }
   ],
   "source": [
    "# running the LSTM model\n",
    "model.fit(X_train_data, Y_train_data, epochs = 20, validation_data=(X_valid_data, Y_valid_data))\n",
    "print(\"finished training!\")"
   ]
  },
  {
   "cell_type": "code",
   "execution_count": 26,
   "metadata": {
    "collapsed": false
   },
   "outputs": [
    {
     "name": "stdout",
     "output_type": "stream",
     "text": [
      "model prediction:\n",
      "[1.5196355e-07 3.9365766e-08 1.1666211e-08 2.9819137e-08 1.1119864e-07\n",
      " 2.5930452e-08 3.4395995e-08 9.4654418e-09 6.4271333e-08 9.0170644e-09\n",
      " 2.6179277e-08 2.1710793e-08 5.3078217e-08 8.9951104e-09 8.2388061e-09\n",
      " 1.5145423e-08 4.4607084e-08 2.6558396e-07 2.3572177e-07 2.8888974e-07\n",
      " 7.0404158e-06 3.7715604e-06 4.2565114e-07 4.3033810e-07 3.0542708e-07\n",
      " 8.1208827e-06 9.7397096e-06 1.8496506e-06 4.9017668e-05 3.4772820e-05\n",
      " 2.8764445e-05 2.4046751e-05 9.5762472e-05 1.7088316e-05 5.4705069e-05\n",
      " 3.5920857e-05 6.1904109e-07 8.6675769e-05 8.4074010e-05 1.1712875e-06\n",
      " 9.4848349e-07 7.0600770e-08 7.8952624e-08 5.6531437e-08 1.5574985e-07\n",
      " 4.7688481e-08 9.9840307e-08 4.6553765e-08 1.2508207e-07 5.0673677e-08\n",
      " 8.6592008e-06 6.0885242e-08 4.1828447e-05 1.0177346e-04 5.6338518e-05\n",
      " 1.7602665e-04 1.0976451e-04 6.3210391e-05 4.8141286e-05 7.8665085e-05\n",
      " 1.4424013e-07 1.2598485e-07 6.2352754e-08 2.9701752e-08 9.9999297e-01\n",
      " 9.9998963e-01 9.9998355e-01 9.9997711e-01 9.9999118e-01 9.9997938e-01\n",
      " 9.9991333e-01 9.9997795e-01 9.9989831e-01 9.9988902e-01 9.9999487e-01\n",
      " 9.9996805e-01 9.9998808e-01 9.9997830e-01 9.9993694e-01 1.0000000e+00\n",
      " 9.9993813e-01 9.9984384e-01 9.9994683e-01 9.9992716e-01 9.9992335e-01\n",
      " 9.9993169e-01 9.9998105e-01 9.9998403e-01 9.9992001e-01 9.9983692e-01\n",
      " 9.9975377e-01 9.9980181e-01 9.9983156e-01 9.9986124e-01 9.9981278e-01\n",
      " 9.9970907e-01 9.9998641e-01 9.9997973e-01 9.9998832e-01 9.9997520e-01\n",
      " 9.9988770e-01 9.9983025e-01 5.7965945e-06 1.4084890e-05 5.0357880e-06\n",
      " 9.9999166e-01 9.9992371e-01 9.9999416e-01 9.9984670e-01 9.9999452e-01\n",
      " 1.2112995e-06 1.6745758e-05 2.7436279e-06 2.2251775e-06 5.2086784e-06\n",
      " 2.7650816e-05 1.5956247e-06 6.9145171e-05 2.3589482e-05 2.1557023e-06\n",
      " 1.7281667e-07 3.8109807e-08 6.9038748e-08 6.5723619e-08 2.2163267e-06\n",
      " 2.4846993e-06 1.2998362e-05 2.1036107e-07 3.9719644e-08 9.9991512e-01\n",
      " 9.9978846e-01 9.9971670e-01 9.9995148e-01 9.9986863e-01 9.9998963e-01\n",
      " 9.9998438e-01 9.9991417e-01 9.9997067e-01 9.9982208e-01 9.9989545e-01\n",
      " 9.9981266e-01 9.9972826e-01 9.9988174e-01 9.9962187e-01 9.9981695e-01\n",
      " 9.9973053e-01 3.2802386e-06 1.8135951e-06 2.2585350e-07 1.5290090e-07\n",
      " 9.8716100e-08 5.5147684e-08 1.6084046e-07 8.9843297e-08 1.1041580e-07\n",
      " 1.8633457e-07 1.0573011e-07 3.2777038e-08 2.9529295e-08 5.9619538e-08\n",
      " 4.1390673e-09 1.5484844e-08 2.4012918e-08 5.5528761e-07 5.2561546e-07\n",
      " 1.1409039e-07 6.1923934e-06 1.8008652e-06 3.9657148e-06 4.6304444e-06\n",
      " 2.0465259e-07 2.3935394e-07 2.1794899e-07 2.1069729e-06 7.0275764e-06\n",
      " 1.0749046e-06 7.1672616e-06 1.8627512e-04 8.2364939e-05 3.4755747e-05\n",
      " 3.3382064e-04 3.1882202e-05 4.5523462e-05 4.4124008e-05 7.7684206e-05\n",
      " 2.4056431e-05 5.1917596e-05 4.4165688e-05 3.8925431e-05 8.5464431e-05\n",
      " 2.4471472e-05 2.4037581e-05 1.1475290e-04 3.3475089e-04 4.2419593e-05\n",
      " 3.9349903e-05 2.2074206e-04 7.5178505e-08 2.3397632e-08 5.1253306e-08\n",
      " 3.3345373e-08 2.7157158e-08 2.5550504e-08 2.8655132e-08 1.3753525e-08\n",
      " 7.3214622e-08 9.5419548e-09 5.6779108e-08 2.4171866e-08 2.1471735e-08\n",
      " 9.4868639e-08 6.8556119e-08]\n",
      "target:\n",
      "[0. 0. 0. 0. 0. 0. 0. 0. 0. 0. 0. 0. 0. 0. 0. 0. 0. 0. 0. 0. 0. 0. 0. 0.\n",
      " 0. 0. 0. 0. 0. 0. 0. 0. 0. 0. 0. 0. 0. 0. 0. 0. 0. 0. 0. 0. 0. 0. 0. 0.\n",
      " 0. 0. 0. 0. 0. 0. 0. 0. 0. 0. 0. 0. 0. 0. 0. 0. 1. 1. 1. 1. 1. 1. 1. 1.\n",
      " 1. 1. 1. 1. 1. 1. 1. 1. 1. 1. 1. 1. 1. 1. 1. 1. 1. 1. 1. 1. 1. 1. 1. 1.\n",
      " 1. 1. 1. 1. 1. 1. 0. 0. 0. 1. 1. 1. 1. 1. 0. 0. 0. 0. 0. 0. 0. 0. 0. 0.\n",
      " 0. 0. 0. 0. 0. 0. 0. 0. 0. 1. 1. 1. 1. 1. 1. 1. 1. 1. 1. 1. 1. 1. 1. 1.\n",
      " 1. 1. 0. 0. 0. 0. 0. 0. 0. 0. 0. 0. 0. 0. 0. 0. 0. 0. 0. 0. 0. 0. 0. 0.\n",
      " 0. 0. 0. 0. 0. 0. 0. 0. 0. 0. 0. 0. 0. 0. 0. 0. 0. 0. 0. 0. 0. 0. 0. 0.\n",
      " 0. 0. 0. 0. 0. 0. 0. 0. 0. 0. 0. 0. 0. 0. 0. 0. 0. 0. 0. 0.]\n",
      "before 64:\n",
      "2.9701752e-08\n",
      "64:\n",
      "0.9999896\n",
      "rounded\n",
      "[0. 0. 0. 0. 0. 0. 0. 0. 0. 0. 0. 0. 0. 0. 0. 0. 0. 0. 0. 0. 0. 0. 0. 0.\n",
      " 0. 0. 0. 0. 0. 0. 0. 0. 0. 0. 0. 0. 0. 0. 0. 0. 0. 0. 0. 0. 0. 0. 0. 0.\n",
      " 0. 0. 0. 0. 0. 0. 0. 0. 0. 0. 0. 0. 0. 0. 0. 0. 1. 1. 1. 1. 1. 1. 1. 1.\n",
      " 1. 1. 1. 1. 1. 1. 1. 1. 1. 1. 1. 1. 1. 1. 1. 1. 1. 1. 1. 1. 1. 1. 1. 1.\n",
      " 1. 1. 1. 1. 1. 1. 0. 0. 0. 1. 1. 1. 1. 1. 0. 0. 0. 0. 0. 0. 0. 0. 0. 0.\n",
      " 0. 0. 0. 0. 0. 0. 0. 0. 0. 1. 1. 1. 1. 1. 1. 1. 1. 1. 1. 1. 1. 1. 1. 1.\n",
      " 1. 1. 0. 0. 0. 0. 0. 0. 0. 0. 0. 0. 0. 0. 0. 0. 0. 0. 0. 0. 0. 0. 0. 0.\n",
      " 0. 0. 0. 0. 0. 0. 0. 0. 0. 0. 0. 0. 0. 0. 0. 0. 0. 0. 0. 0. 0. 0. 0. 0.\n",
      " 0. 0. 0. 0. 0. 0. 0. 0. 0. 0. 0. 0. 0. 0. 0. 0. 0. 0. 0. 0.]\n"
     ]
    }
   ],
   "source": [
    "# trying to view the model output\n",
    "out = model.predict(X_train_data)\n",
    "print(\"model prediction:\")\n",
    "print(out[0])\n",
    "print(\"target:\")\n",
    "print(Y_train_data[0])\n",
    "\n",
    "print(\"before 64:\")\n",
    "print(out[0][63])\n",
    "print(\"64:\")\n",
    "print(out[0][65])\n",
    "\n",
    "print(\"rounded\")\n",
    "print(np.round(out)[0])"
   ]
  },
  {
   "cell_type": "code",
   "execution_count": 12,
   "metadata": {
    "collapsed": false
   },
   "outputs": [
    {
     "data": {
      "image/svg+xml": [
       "<svg height=\"556pt\" viewBox=\"0.00 0.00 249.14 556.00\" width=\"249pt\" xmlns=\"http://www.w3.org/2000/svg\" xmlns:xlink=\"http://www.w3.org/1999/xlink\">\n",
       "<g class=\"graph\" id=\"graph0\" transform=\"scale(1 1) rotate(0) translate(4 552)\">\n",
       "<title>G</title>\n",
       "<polygon fill=\"#ffffff\" points=\"-4,4 -4,-552 245.1416,-552 245.1416,4 -4,4\" stroke=\"transparent\"/>\n",
       "<!-- 47761281712 -->\n",
       "<g class=\"node\" id=\"node1\">\n",
       "<title>47761281712</title>\n",
       "<polygon fill=\"none\" points=\"32.2827,-511.5 32.2827,-547.5 208.8589,-547.5 208.8589,-511.5 32.2827,-511.5\" stroke=\"#000000\"/>\n",
       "<text fill=\"#000000\" font-family=\"Times,serif\" font-size=\"14.00\" text-anchor=\"middle\" x=\"120.5708\" y=\"-525.3\">conv1d_1_input: InputLayer</text>\n",
       "</g>\n",
       "<!-- 47761426640 -->\n",
       "<g class=\"node\" id=\"node2\">\n",
       "<title>47761426640</title>\n",
       "<polygon fill=\"none\" points=\"57.5449,-438.5 57.5449,-474.5 183.5967,-474.5 183.5967,-438.5 57.5449,-438.5\" stroke=\"#000000\"/>\n",
       "<text fill=\"#000000\" font-family=\"Times,serif\" font-size=\"14.00\" text-anchor=\"middle\" x=\"120.5708\" y=\"-452.3\">conv1d_1: Conv1D</text>\n",
       "</g>\n",
       "<!-- 47761281712&#45;&gt;47761426640 -->\n",
       "<g class=\"edge\" id=\"edge1\">\n",
       "<title>47761281712-&gt;47761426640</title>\n",
       "<path d=\"M120.5708,-511.4551C120.5708,-503.3828 120.5708,-493.6764 120.5708,-484.6817\" fill=\"none\" stroke=\"#000000\"/>\n",
       "<polygon fill=\"#000000\" points=\"124.0709,-484.5903 120.5708,-474.5904 117.0709,-484.5904 124.0709,-484.5903\" stroke=\"#000000\"/>\n",
       "</g>\n",
       "<!-- 47636590488 -->\n",
       "<g class=\"node\" id=\"node3\">\n",
       "<title>47636590488</title>\n",
       "<polygon fill=\"none\" points=\"0,-365.5 0,-401.5 241.1416,-401.5 241.1416,-365.5 0,-365.5\" stroke=\"#000000\"/>\n",
       "<text fill=\"#000000\" font-family=\"Times,serif\" font-size=\"14.00\" text-anchor=\"middle\" x=\"120.5708\" y=\"-379.3\">spatial_dropout1d_1: SpatialDropout1D</text>\n",
       "</g>\n",
       "<!-- 47761426640&#45;&gt;47636590488 -->\n",
       "<g class=\"edge\" id=\"edge2\">\n",
       "<title>47761426640-&gt;47636590488</title>\n",
       "<path d=\"M120.5708,-438.4551C120.5708,-430.3828 120.5708,-420.6764 120.5708,-411.6817\" fill=\"none\" stroke=\"#000000\"/>\n",
       "<polygon fill=\"#000000\" points=\"124.0709,-411.5903 120.5708,-401.5904 117.0709,-411.5904 124.0709,-411.5903\" stroke=\"#000000\"/>\n",
       "</g>\n",
       "<!-- 47771390024 -->\n",
       "<g class=\"node\" id=\"node4\">\n",
       "<title>47771390024</title>\n",
       "<polygon fill=\"none\" points=\"71.1484,-292.5 71.1484,-328.5 169.9932,-328.5 169.9932,-292.5 71.1484,-292.5\" stroke=\"#000000\"/>\n",
       "<text fill=\"#000000\" font-family=\"Times,serif\" font-size=\"14.00\" text-anchor=\"middle\" x=\"120.5708\" y=\"-306.3\">lstm_1: LSTM</text>\n",
       "</g>\n",
       "<!-- 47636590488&#45;&gt;47771390024 -->\n",
       "<g class=\"edge\" id=\"edge3\">\n",
       "<title>47636590488-&gt;47771390024</title>\n",
       "<path d=\"M120.5708,-365.4551C120.5708,-357.3828 120.5708,-347.6764 120.5708,-338.6817\" fill=\"none\" stroke=\"#000000\"/>\n",
       "<polygon fill=\"#000000\" points=\"124.0709,-338.5903 120.5708,-328.5904 117.0709,-338.5904 124.0709,-338.5903\" stroke=\"#000000\"/>\n",
       "</g>\n",
       "<!-- 47771598800 -->\n",
       "<g class=\"node\" id=\"node5\">\n",
       "<title>47771598800</title>\n",
       "<polygon fill=\"none\" points=\"56.769,-219.5 56.769,-255.5 184.3726,-255.5 184.3726,-219.5 56.769,-219.5\" stroke=\"#000000\"/>\n",
       "<text fill=\"#000000\" font-family=\"Times,serif\" font-size=\"14.00\" text-anchor=\"middle\" x=\"120.5708\" y=\"-233.3\">dropout_1: Dropout</text>\n",
       "</g>\n",
       "<!-- 47771390024&#45;&gt;47771598800 -->\n",
       "<g class=\"edge\" id=\"edge4\">\n",
       "<title>47771390024-&gt;47771598800</title>\n",
       "<path d=\"M120.5708,-292.4551C120.5708,-284.3828 120.5708,-274.6764 120.5708,-265.6817\" fill=\"none\" stroke=\"#000000\"/>\n",
       "<polygon fill=\"#000000\" points=\"124.0709,-265.5903 120.5708,-255.5904 117.0709,-265.5904 124.0709,-265.5903\" stroke=\"#000000\"/>\n",
       "</g>\n",
       "<!-- 4323737272 -->\n",
       "<g class=\"node\" id=\"node6\">\n",
       "<title>4323737272</title>\n",
       "<polygon fill=\"none\" points=\"71.1484,-146.5 71.1484,-182.5 169.9932,-182.5 169.9932,-146.5 71.1484,-146.5\" stroke=\"#000000\"/>\n",
       "<text fill=\"#000000\" font-family=\"Times,serif\" font-size=\"14.00\" text-anchor=\"middle\" x=\"120.5708\" y=\"-160.3\">lstm_2: LSTM</text>\n",
       "</g>\n",
       "<!-- 47771598800&#45;&gt;4323737272 -->\n",
       "<g class=\"edge\" id=\"edge5\">\n",
       "<title>47771598800-&gt;4323737272</title>\n",
       "<path d=\"M120.5708,-219.4551C120.5708,-211.3828 120.5708,-201.6764 120.5708,-192.6817\" fill=\"none\" stroke=\"#000000\"/>\n",
       "<polygon fill=\"#000000\" points=\"124.0709,-192.5903 120.5708,-182.5904 117.0709,-192.5904 124.0709,-192.5903\" stroke=\"#000000\"/>\n",
       "</g>\n",
       "<!-- 48100011200 -->\n",
       "<g class=\"node\" id=\"node7\">\n",
       "<title>48100011200</title>\n",
       "<polygon fill=\"none\" points=\"64.938,-73.5 64.938,-109.5 176.2036,-109.5 176.2036,-73.5 64.938,-73.5\" stroke=\"#000000\"/>\n",
       "<text fill=\"#000000\" font-family=\"Times,serif\" font-size=\"14.00\" text-anchor=\"middle\" x=\"120.5708\" y=\"-87.3\">flatten_1: Flatten</text>\n",
       "</g>\n",
       "<!-- 4323737272&#45;&gt;48100011200 -->\n",
       "<g class=\"edge\" id=\"edge6\">\n",
       "<title>4323737272-&gt;48100011200</title>\n",
       "<path d=\"M120.5708,-146.4551C120.5708,-138.3828 120.5708,-128.6764 120.5708,-119.6817\" fill=\"none\" stroke=\"#000000\"/>\n",
       "<polygon fill=\"#000000\" points=\"124.0709,-119.5903 120.5708,-109.5904 117.0709,-119.5904 124.0709,-119.5903\" stroke=\"#000000\"/>\n",
       "</g>\n",
       "<!-- 48100560456 -->\n",
       "<g class=\"node\" id=\"node8\">\n",
       "<title>48100560456</title>\n",
       "<polygon fill=\"none\" points=\"68.4448,-.5 68.4448,-36.5 172.6968,-36.5 172.6968,-.5 68.4448,-.5\" stroke=\"#000000\"/>\n",
       "<text fill=\"#000000\" font-family=\"Times,serif\" font-size=\"14.00\" text-anchor=\"middle\" x=\"120.5708\" y=\"-14.3\">dense_1: Dense</text>\n",
       "</g>\n",
       "<!-- 48100011200&#45;&gt;48100560456 -->\n",
       "<g class=\"edge\" id=\"edge7\">\n",
       "<title>48100011200-&gt;48100560456</title>\n",
       "<path d=\"M120.5708,-73.4551C120.5708,-65.3828 120.5708,-55.6764 120.5708,-46.6817\" fill=\"none\" stroke=\"#000000\"/>\n",
       "<polygon fill=\"#000000\" points=\"124.0709,-46.5903 120.5708,-36.5904 117.0709,-46.5904 124.0709,-46.5903\" stroke=\"#000000\"/>\n",
       "</g>\n",
       "</g>\n",
       "</svg>"
      ],
      "text/plain": [
       "<IPython.core.display.SVG object>"
      ]
     },
     "execution_count": 12,
     "metadata": {},
     "output_type": "execute_result"
    }
   ],
   "source": [
    "#try visualizing this model at some point?\n",
    "SVG(model_to_dot(model).create(prog='dot', format=\"svg\"))"
   ]
  },
  {
   "cell_type": "code",
   "execution_count": null,
   "metadata": {
    "collapsed": true
   },
   "outputs": [],
   "source": []
  }
 ],
 "metadata": {
  "anaconda-cloud": {},
  "kernelspec": {
   "display_name": "Python [default]",
   "language": "python",
   "name": "python3"
  },
  "language_info": {
   "codemirror_mode": {
    "name": "ipython",
    "version": 3
   },
   "file_extension": ".py",
   "mimetype": "text/x-python",
   "name": "python",
   "nbconvert_exporter": "python",
   "pygments_lexer": "ipython3",
   "version": "3.5.2"
  }
 },
 "nbformat": 4,
 "nbformat_minor": 2
}
